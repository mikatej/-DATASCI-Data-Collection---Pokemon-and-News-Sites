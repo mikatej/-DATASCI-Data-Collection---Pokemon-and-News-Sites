{
 "cells": [
  {
   "cell_type": "markdown",
   "metadata": {},
   "source": [
    "# News articles from theverge.com\n",
    "Articles were published on March 11-12 which were collected using [News API](https://newsapi.org/)\n",
    "\n",
    "Name/Section: Mikayla M. Tejada - S12"
   ]
  },
  {
   "cell_type": "markdown",
   "metadata": {},
   "source": [
    "### Import `NewsApiClient` library"
   ]
  },
  {
   "cell_type": "code",
   "execution_count": 1,
   "metadata": {},
   "outputs": [],
   "source": [
    "from newsapi import NewsApiClient"
   ]
  },
  {
   "cell_type": "code",
   "execution_count": 2,
   "metadata": {},
   "outputs": [],
   "source": [
    "#API KEY - 9a02a7d297824f4681c334b251383a7d\n",
    "newsapi = NewsApiClient(api_key='9a02a7d297824f4681c334b251383a7d')\n"
   ]
  },
  {
   "cell_type": "markdown",
   "metadata": {},
   "source": [
    "### View articles published by The Verge from Mar 11-12 2021"
   ]
  },
  {
   "cell_type": "code",
   "execution_count": 3,
   "metadata": {},
   "outputs": [
    {
     "data": {
      "text/plain": [
       "{'status': 'ok',\n",
       " 'totalResults': 81,\n",
       " 'articles': [{'source': {'id': 'the-verge', 'name': 'The Verge'},\n",
       "   'author': 'Taylor Lyles',\n",
       "   'title': 'Here’s where you can buy a PS5',\n",
       "   'description': 'The PlayStation 5 is one of the most difficult consoles to buy right now because of the pandemic. We’re keeping an eye on retailers like Amazon, Best Buy, Walmart, and others to help you find and buy Sony’s next-gen console.',\n",
       "   'url': 'https://www.theverge.com/22323257/sony-playstation-5-ps5-in-stock-digital-disk-edition-where-buy',\n",
       "   'urlToImage': 'https://cdn.vox-cdn.com/thumbor/nLhwP1T-any8xLO0yYL1NUQONXc=/0x146:2040x1214/fit-in/1200x630/cdn.vox-cdn.com/uploads/chorus_asset/file/21990370/vpavic_4261_20201023_0058.jpg',\n",
       "   'publishedAt': '2021-03-12T20:55:30Z',\n",
       "   'content': 'Its quite difficult to buy one these days\\r\\nIf you buy something from a Verge link, Vox Media may earn a commission. See our ethics statement.\\r\\nUpdate March 12th, 2021 3:55PM ET: Best Buy currently ha… [+4935 chars]'},\n",
       "  {'source': {'id': 'the-verge', 'name': 'The Verge'},\n",
       "   'author': 'Barbara Krasnoff',\n",
       "   'title': 'Bitwarden adds secure text and file transfer to its arsenal',\n",
       "   'description': 'Bitwarden has a new feature it calls Send, which allows you to send files or text (including, if you wish, passwords) securely via end-to-end AES-256 bit encryption.',\n",
       "   'url': 'https://www.theverge.com/2021/3/12/22327834/bitwarden-secure-text-file-transfer-encryption',\n",
       "   'urlToImage': 'https://cdn.vox-cdn.com/thumbor/VNr1XaAwBiDcD90HIuDXuvYPUHY=/0x114:2312x1324/fit-in/1200x630/cdn.vox-cdn.com/uploads/chorus_asset/file/22366286/Screen_Shot_2021_03_12_at_2.23.19_PM.png',\n",
       "   'publishedAt': '2021-03-12T21:18:30Z',\n",
       "   'content': 'A new Send feature lets you send links to encrypted files\\r\\nMany current password managers allow you to share your passwords with family members or other individuals or groups. (You do use a password … [+2396 chars]'},\n",
       "  {'source': {'id': 'the-verge', 'name': 'The Verge'},\n",
       "   'author': 'Jon Porter',\n",
       "   'title': 'Bumble’s new Night In feature is an attempt to break the ice on virtual dates',\n",
       "   'description': 'Bumble has announced Night In, a new feature that gives users a game to play on a virtual date. It’s available in the US and Canada, and at first, the game will consist of trivia questions you can answer with your date.',\n",
       "   'url': 'https://www.theverge.com/2021/3/11/22325404/bumble-virtual-date-trivia-quiz-social-distancing',\n",
       "   'urlToImage': 'https://cdn.vox-cdn.com/thumbor/YBf1WmTmRvZPnYiz2YFxX8BYXTA=/0x63:1920x1068/fit-in/1200x630/cdn.vox-cdn.com/uploads/chorus_asset/file/22362827/Night_In_Press_w_logo.png',\n",
       "   'publishedAt': '2021-03-11T17:04:33Z',\n",
       "   'content': 'Image: Bumble\\r\\n\\n \\n\\n Dating app Bumble has announced Night In, a new feature that lets you play games on a virtual date. The feature is available to users in the US and Canada, and the game available … [+587 chars]'},\n",
       "  {'source': {'id': 'the-verge', 'name': 'The Verge'},\n",
       "   'author': 'Bijan Stephen',\n",
       "   'title': 'Soon you’ll be able to buy a one-foot-tall figurine of ChilledCow’s lo-fi chill beats anime girl',\n",
       "   'description': 'The figurine comes with her desk, her homework, her backpack, and more. It goes on sale on April 2nd at 3PM ET.',\n",
       "   'url': 'https://www.theverge.com/tldr/2021/3/11/22325348/youtooz-lofi-chill-anime-beats-chilled-cow-figurine',\n",
       "   'urlToImage': 'https://cdn.vox-cdn.com/thumbor/G9mDrFFYL5ADHB5t379D7pJlZEM=/0x108:1500x893/fit-in/1200x630/cdn.vox-cdn.com/uploads/chorus_asset/file/22362814/youtooz_lofi_hip_hop_radio_beats_to_relax_study_to_girl_1_ft_figure_release_info_2.jpg',\n",
       "   'publishedAt': '2021-03-11T16:46:11Z',\n",
       "   'content': 'Filed under:\\r\\nTime to study, time to die\\r\\nYoutooz\\r\\nJesus. Okay. Look, I like capitalism as much as the next schmuck who blogs for a living, but what is going on right now with regard to the efficient… [+1491 chars]'},\n",
       "  {'source': {'id': 'the-verge', 'name': 'The Verge'},\n",
       "   'author': 'James Vincent',\n",
       "   'title': 'Tens of thousands of Verkada cameras were easily accessible to employees as well as hackers',\n",
       "   'description': 'Surveillance company Verkada, which recently suffered a breach exposing some 150,000 of its cameras to hackers, also gave employees widespread access to the same feeds. New reports says more than 100 employees had “super admin” privileges, and that oversight …',\n",
       "   'url': 'https://www.theverge.com/2021/3/11/22324876/surveillance-camera-firm-verkada-breached-hacked-super-admin-access-employees',\n",
       "   'urlToImage': 'https://cdn.vox-cdn.com/thumbor/fa5LNW-tt3pfRJPenkd4s8dBqZ4=/0x571:7952x4734/fit-in/1200x630/cdn.vox-cdn.com/uploads/chorus_asset/file/22362280/Verkada_Camera_Outdoor2.jpg',\n",
       "   'publishedAt': '2021-03-11T10:53:16Z',\n",
       "   'content': 'We literally had 20-year-old interns that had access to over 100,000 cameras\\r\\nEmployees of cloud-based surveillance firm Verkada had widespread access to feeds from customers cameras, according to ne… [+3656 chars]'},\n",
       "  {'source': {'id': 'the-verge', 'name': 'The Verge'},\n",
       "   'author': 'Chaim Gartenberg',\n",
       "   'title': 'Spotify lets passengers fight over your road trip playlist, disturbing natural order of universe',\n",
       "   'description': 'The Polestar 2 is debuting Spotify’s Group Sessions feature, letting anyone in the car help DJ your next road trip — in stark violation of the rule that the driver always gets to pick the music.',\n",
       "   'url': 'https://www.theverge.com/2021/3/11/22325579/spotify-group-sessions-polestar-2-android-automotive-car',\n",
       "   'urlToImage': 'https://cdn.vox-cdn.com/thumbor/hBxKwkl3QrpyqrKnE4hYf5L2Obk=/0x611:5000x3229/fit-in/1200x630/cdn.vox-cdn.com/uploads/chorus_asset/file/21857160/Polestar2_US_Launch_0027.jpg',\n",
       "   'publishedAt': '2021-03-11T18:54:46Z',\n",
       "   'content': 'Starting with the Android Automotive-powered Polestar 2\\r\\nPolestar / Beadyeye\\r\\nIts a fundamental rule of the road: driver picks the music. \\r\\nAnd yet, in a brazen challenge to the immutable laws of the… [+1723 chars]'},\n",
       "  {'source': {'id': 'the-verge', 'name': 'The Verge'},\n",
       "   'author': 'Nicole Wetsman',\n",
       "   'title': 'One year later',\n",
       "   'description': 'The COVID-19 pandemic took over the United States a year ago, on March 11th, 2020. The Verge staff shared their memories from the time when everything changed.',\n",
       "   'url': 'https://www.theverge.com/2021/3/11/22325333/covid-pandemic-one-year-later-march-pandemic',\n",
       "   'urlToImage': 'https://cdn.vox-cdn.com/thumbor/_oMoJ6JStsbnkS-7T3Hx2uLNhdc=/0x148:2050x1221/fit-in/1200x630/cdn.vox-cdn.com/uploads/chorus_asset/file/22363272/VRG_ILLO_4468_001.jpg',\n",
       "   'publishedAt': '2021-03-11T19:08:59Z',\n",
       "   'content': 'To brighter days ahead The calendar tells me that it’s been a year since the world changed. It’s been more than a year, really: the first COVID-19 case in the United States was reported on January 21… [+19834 chars]'},\n",
       "  {'source': {'id': 'the-verge', 'name': 'The Verge'},\n",
       "   'author': 'Mitchell Clark',\n",
       "   'title': 'Los Angeles movie-goers will soon be able to visit a theater for the first time in a year',\n",
       "   'description': 'LA is known as the center of the American movie industry, and next week its residents will be able to watch those movies in theaters again. The restrictions are being lifted after the county met its vaccination targets.',\n",
       "   'url': 'https://www.theverge.com/2021/3/11/22326343/los-angeles-la-movie-theaters-reopen-movie-capitol',\n",
       "   'urlToImage': 'https://cdn.vox-cdn.com/thumbor/rhLMpPsUCSnKYy1-K5SyA_8ZuTo=/0x71:1020x605/fit-in/1200x630/cdn.vox-cdn.com/assets/1153229/amc-movie-theater-logo_1020.jpg',\n",
       "   'publishedAt': '2021-03-12T01:39:16Z',\n",
       "   'content': 'LA county anticipates theaters will be able to re-open next week\\r\\nLos Angeles theaters will be allowed to reopen at 25 percent capacity next week, according to the LA Department of Public Health (via… [+1715 chars]'},\n",
       "  {'source': {'id': 'the-verge', 'name': 'The Verge'},\n",
       "   'author': 'Chaim Gartenberg',\n",
       "   'title': 'Apple sues 11-year veteran MacBook designer for allegedly stealing trade secrets for a journalist',\n",
       "   'description': 'Apple is suing Simon Lancaster, a former product design architect who worked at the company for 11 years, accusing him of selling trade secrets about unreleased Apple products to a media contact in exchange for favorable coverage.',\n",
       "   'url': 'https://www.theverge.com/2021/3/11/22325827/apple-lawsuit-macbook-designer-simon-lancaster-trade-secrets-leaks',\n",
       "   'urlToImage': 'https://cdn.vox-cdn.com/thumbor/vB6BU3UdyQtgC8thjf_ocAuZCkE=/0x146:2040x1214/fit-in/1200x630/cdn.vox-cdn.com/uploads/chorus_asset/file/10125273/acastro_180130_1777_0005.jpg',\n",
       "   'publishedAt': '2021-03-11T20:47:53Z',\n",
       "   'content': 'The company claims that Simon Lancaster, a former product design architect, was selling trade secrets \\r\\nIllustration by Alex Castro / The Verge\\r\\nApple is suing Simon Lancaster, a former product desig… [+3117 chars]'},\n",
       "  {'source': {'id': 'the-verge', 'name': 'The Verge'},\n",
       "   'author': 'Monica Chin',\n",
       "   'title': 'The latest Windows 10 update could cause your printer to crash your PC',\n",
       "   'description': 'Users are reporting that the latest Windows 10 update is causing issues with printers from brands including Kyocera, Ricoh, and Zebra. While Microsoft looks into the issue, Reddit has generated some temporary solutions.',\n",
       "   'url': 'https://www.theverge.com/2021/3/11/22326083/windows-10-security-update-bug-printer-crash-kyocera-ricoh-zebra-microsoft',\n",
       "   'urlToImage': 'https://cdn.vox-cdn.com/thumbor/QGTJV_lRoOjujB-i0qC0tXQCM7U=/0x146:2040x1214/fit-in/1200x630/cdn.vox-cdn.com/uploads/chorus_asset/file/21932510/mchin_181225_4219_0006.0.jpg',\n",
       "   'publishedAt': '2021-03-11T23:10:22Z',\n",
       "   'content': 'Your PC ran into a problem and needs to restart\\r\\nPhoto by Monica Chin / The Verge\\r\\nThe latest Windows update has been causing problems for some printer owners, according to a report from Windows Late… [+2029 chars]'},\n",
       "  {'source': {'id': 'the-verge', 'name': 'The Verge'},\n",
       "   'author': 'Mitchell Clark',\n",
       "   'title': 'Go listen to Spotify’s podcast about itself that ignores the existence of iTunes',\n",
       "   'description': 'Spotify’s podcast, Spotify: A Product Story, is worth a listen for its technical details, as well as its introduction to the streaming services’ history. The podcast seems, however, to have completely ignored the existence of iTunes.',\n",
       "   'url': 'https://www.theverge.com/2021/3/11/22325780/spotify-podcast-a-product-story-streaming-music-history-itunes',\n",
       "   'urlToImage': 'https://cdn.vox-cdn.com/thumbor/bs509oGv0BMoX-fEYE_mlyRiz38=/0x146:2040x1214/fit-in/1200x630/cdn.vox-cdn.com/uploads/chorus_asset/file/10432237/mdoying_180308_1437_0082still.jpg',\n",
       "   'publishedAt': '2021-03-11T22:50:08Z',\n",
       "   'content': 'The podcast gets into the history of the company and has tons of technical details, but it revises history a bit\\r\\nPhoto by Michele Doying / The Verge\\r\\nSpotify is making a podcast about its own histor… [+1785 chars]'},\n",
       "  {'source': {'id': 'the-verge', 'name': 'The Verge'},\n",
       "   'author': 'Mitchell Clark',\n",
       "   'title': 'Gogo’s 5G network launch has stalled due to the chip shortage',\n",
       "   'description': 'Aviation connectivity company Gogo is the latest to fall victim to the global computer chip storage, with the company reportedly pushing back the rollout of its 5G network due to the supply issues.',\n",
       "   'url': 'https://www.theverge.com/2021/3/11/22325999/gogo-5g-network-delay-chip-shortage',\n",
       "   'urlToImage': 'https://cdn.vox-cdn.com/thumbor/PKh8zxsUNnpC961aDGyl6HzpbJ4=/0x74:1020x608/fit-in/1200x630/cdn.vox-cdn.com/uploads/chorus_asset/file/14611161/gogo-internet-logo-stock1_1020.1419980305.jpg',\n",
       "   'publishedAt': '2021-03-11T22:10:33Z',\n",
       "   'content': 'The company is reportedly pushing its plans back a year to 2022\\r\\nGogo in-flight internet STOCK\\r\\nGogo will be delaying the rollout of its 5G network, pushing it back from 2021 to 2022. According to Li… [+1479 chars]'},\n",
       "  {'source': {'id': 'the-verge', 'name': 'The Verge'},\n",
       "   'author': 'Jay Peters',\n",
       "   'title': 'Microsoft says the latest Xbox Series X update fixes controller disconnect issues',\n",
       "   'description': 'March’s Xbox update includes fixes for Xbox Series X controller disconnect issues that some players have reported, according to the Xbox team’s Jason Ronald.',\n",
       "   'url': 'https://www.theverge.com/2021/3/11/22326224/microsoft-xbox-series-x-controller-disconnect-issues-march-update',\n",
       "   'urlToImage': 'https://cdn.vox-cdn.com/thumbor/uVahDVW6Ne3J1kafwwm0eaJ4cAA=/0x183:2640x1565/fit-in/1200x630/cdn.vox-cdn.com/uploads/chorus_asset/file/21904643/twarren_xboxseriesxcontroller_VLS_3616_2_4.jpg',\n",
       "   'publishedAt': '2021-03-11T23:26:03Z',\n",
       "   'content': 'People have been reporting disconnect problems since the consoles launch\\r\\nPhoto by Tom Warren / The Verge\\r\\nMicrosoft released a new Xbox update earlier this week that brings toggles for Auto HDR and … [+1173 chars]'},\n",
       "  {'source': {'id': 'the-verge', 'name': 'The Verge'},\n",
       "   'author': 'Allison Johnson',\n",
       "   'title': 'T-Mobile plans to turn up 5G speed this year, cover 90 percent of Americans with fast 5G by 2024',\n",
       "   'description': 'T-Mobile says it will expand its slower Extended Range 5G to cover 97 percent of Americans by the end of 2022, and it will cover 90 percent of Americans with faster Ultra Capacity 5G by the end of 2023.',\n",
       "   'url': 'https://www.theverge.com/2021/3/11/22325857/t-mobile-5g-coverage-ultra-capacity-extended-range',\n",
       "   'urlToImage': 'https://cdn.vox-cdn.com/thumbor/Spt1FkKP2hhthuQPwZl375zMAoE=/0x146:2040x1214/fit-in/1200x630/cdn.vox-cdn.com/uploads/chorus_asset/file/19367783/acastro_191108_1777_t-mobile_0001.0.jpg',\n",
       "   'publishedAt': '2021-03-11T21:49:18Z',\n",
       "   'content': 'Increasing 5G speeds this year to an average of 400Mbps\\r\\nT-Mobile is keen to stay ahead of the 5G competition\\r\\nIllustration by Alex Castro / The Verge\\r\\nDuring its virtual analyst event today, T-Mobil… [+1543 chars]'},\n",
       "  {'source': {'id': 'the-verge', 'name': 'The Verge'},\n",
       "   'author': 'Sam Byford',\n",
       "   'title': 'Building the ultimate retro computer',\n",
       "   'description': 'MiSTer uses field-programmable gate array (FPGA) technology to shapeshift into classic hardware, from the NES to the Neo Geo, to the Apple II or Acorn Archimedes.',\n",
       "   'url': 'https://www.theverge.com/22323002/mister-fpga-project-retro-computer-console-early-pc',\n",
       "   'urlToImage': 'https://cdn.vox-cdn.com/thumbor/t6qIn4aQemDyDWVchZ51enNKIcs=/0x146:2040x1214/fit-in/1200x630/cdn.vox-cdn.com/uploads/chorus_asset/file/22360562/sbyford_210303_4461_0014.jpg',\n",
       "   'publishedAt': '2021-03-11T14:00:00Z',\n",
       "   'content': 'Although I assembled it myself, and its software all comes from an open-source DIY project, in many ways my MiSTer is the most versatile computer I own. Its a shapeshifting wonderbox that can change … [+12097 chars]'},\n",
       "  {'source': {'id': 'the-verge', 'name': 'The Verge'},\n",
       "   'author': 'James Vincent',\n",
       "   'title': 'Facebook’s next big AI project is training its machines on users’ public videos',\n",
       "   'description': 'Facebook has announced a new AI project called Learn From Video, which will use public Facebook videos to train its machine learning models. The company is vague about future applications, but it says such models could be used to improve captions, search func…',\n",
       "   'url': 'https://www.theverge.com/2021/3/12/22326975/facebook-training-ai-public-videos-digital-memories',\n",
       "   'urlToImage': 'https://cdn.vox-cdn.com/thumbor/0nPZ5hv8HUuyc6owSywrNjlcIIA=/0x146:2040x1214/fit-in/1200x630/cdn.vox-cdn.com/uploads/chorus_asset/file/9441049/acastro_171002_1777_0004_v1.jpg',\n",
       "   'publishedAt': '2021-03-12T17:00:00Z',\n",
       "   'content': 'AI that can understand video could be put to a variety of uses\\r\\nIllustration by Alex Castro / The Verge\\r\\nTeaching AI systems to understand whats happening in videos as completely as a human can is on… [+8111 chars]'},\n",
       "  {'source': {'id': 'the-verge', 'name': 'The Verge'},\n",
       "   'author': 'Jay Peters',\n",
       "   'title': 'Microsoft’s Edge browser will match Chrome’s upcoming four-week release cycle',\n",
       "   'description': 'Microsoft is going to adjust its release cycles for Microsoft Edge to match Google’s every-four-weeks release cadence for Chrome announced earlier this week. The change will go into effect with Edge 94, which is targeted for a September release.',\n",
       "   'url': 'https://www.theverge.com/2021/3/12/22327832/microsoft-edge-browser-google-chrome-release-cycle',\n",
       "   'urlToImage': 'https://cdn.vox-cdn.com/thumbor/h2TNhqf8u7_lV8mmNRHNxi4G-H0=/0x146:2040x1214/fit-in/1200x630/cdn.vox-cdn.com/uploads/chorus_asset/file/19713463/acastro_200207_3900_Edge_0001.0.jpg',\n",
       "   'publishedAt': '2021-03-12T19:32:17Z',\n",
       "   'content': 'The change will go into effect in September\\r\\nIllustration by Alex Castro / The Verge\\r\\nMicrosoft is going to adjust its release cycles for Microsoft Edge to match the every-four-weeks release cadence … [+923 chars]'},\n",
       "  {'source': {'id': 'the-verge', 'name': 'The Verge'},\n",
       "   'author': 'Taylor Lyles',\n",
       "   'title': 'Apple’s MagSafe Duo charger is down to its lowest price yet at Best Buy',\n",
       "   'description': 'Best Buy has slashed $29 off the usual price of the MagSafe Duo Charger. Normally $129, you can get Apple’s 2-in-1 charger for only $100 today at the retailer.',\n",
       "   'url': 'https://www.theverge.com/good-deals/2021/3/11/22325027/apple-magsafe-duo-charger-watch-sport-samsung-galaxy-buds-live-deal-sale',\n",
       "   'urlToImage': 'https://cdn.vox-cdn.com/thumbor/9AE4OpidCwPyeQD79ba6TYS9l3A=/0x146:2040x1214/fit-in/1200x630/cdn.vox-cdn.com/uploads/chorus_asset/file/22024810/dbohn_201109_4283_0004.0.jpg',\n",
       "   'publishedAt': '2021-03-11T15:36:01Z',\n",
       "   'content': 'Plus, Verge readers can grab an Apple Watch Sport Loop for $18 today\\r\\nIf you buy something from a Verge link, Vox Media may earn a commission. See our ethics statement.\\r\\nPhoto by Dieter Bohn / The Ve… [+2731 chars]'},\n",
       "  {'source': {'id': 'the-verge', 'name': 'The Verge'},\n",
       "   'author': 'Barbara Krasnoff',\n",
       "   'title': 'How to create a signature for PDF documents on a PC',\n",
       "   'description': 'While Windows doesn’t offer a built-in PDF signing feature , there are third-party apps that you can use such as Adobe Acrobat Reader DC, which is Adobe’s free PDF reader.',\n",
       "   'url': 'https://www.theverge.com/22323097/pdf-signature-windows-pc-adobe-how-to',\n",
       "   'urlToImage': 'https://cdn.vox-cdn.com/thumbor/EF9c-euDZrPQ9_ZeEhCLhV_aZLU=/0x184:2640x1566/fit-in/1200x630/cdn.vox-cdn.com/uploads/chorus_asset/file/21953652/twarren-surfacelaptopgo-7.0.jpg',\n",
       "   'publishedAt': '2021-03-11T14:52:46Z',\n",
       "   'content': 'Adobe Acrobat Reader DC is your best free bet\\r\\nIf you buy something from a Verge link, Vox Media may earn a commission. See our ethics statement.\\r\\nPhoto by Tom Warren / The Verge\\r\\nEven before the COV… [+4347 chars]'},\n",
       "  {'source': {'id': 'the-verge', 'name': 'The Verge'},\n",
       "   'author': 'Kim Lyons',\n",
       "   'title': 'These new 3D-printed homes in Austin are going for $450K',\n",
       "   'description': 'ICON used its massive Vulcan 3D printer to create the first floors of four houses in East Austin, Texas. Each of the houses is between 1,000 and 2,000 square feet.',\n",
       "   'url': 'https://www.theverge.com/2021/3/11/22325004/new-3d-printed-homes-austin-price-icon-housing',\n",
       "   'urlToImage': 'https://cdn.vox-cdn.com/thumbor/9xeaC9R8hM5uj8x9qY_E-aTygAI=/0x51:2500x1360/fit-in/1200x630/cdn.vox-cdn.com/uploads/chorus_asset/file/22362522/3Strands_and_ICON_3D_Printed_Homes_AustinTX_2021_Exterior_2_Credit_LoganArchitecture.jpeg',\n",
       "   'publishedAt': '2021-03-11T16:09:00Z',\n",
       "   'content': 'The printing process takes about a week\\r\\nOne of the new 3D-printed homes in the East 17th Street Residences in Austin, Texas.\\r\\nImage: ICON\\r\\nWhen it showed off its 3D-printed homes at the South by Sou… [+2260 chars]'}]}"
      ]
     },
     "execution_count": 3,
     "metadata": {},
     "output_type": "execute_result"
    }
   ],
   "source": [
    "all_articles = newsapi.get_everything(sources='the-verge',\n",
    "                                      domains='theverge.com',\n",
    "                                      from_param='2021-03-11',\n",
    "                                      to='2021-03-12',\n",
    "                                      language='en',\n",
    "                                      sort_by='relevancy')\n",
    "\n",
    "all_articles"
   ]
  },
  {
   "cell_type": "code",
   "execution_count": 4,
   "metadata": {},
   "outputs": [
    {
     "data": {
      "text/plain": [
       "20"
      ]
     },
     "execution_count": 4,
     "metadata": {},
     "output_type": "execute_result"
    }
   ],
   "source": [
    "#how many articles were retrieved\n",
    "len(all_articles['articles'])"
   ]
  },
  {
   "cell_type": "markdown",
   "metadata": {},
   "source": [
    "### Checking the contents of the first article retrieved"
   ]
  },
  {
   "cell_type": "code",
   "execution_count": 5,
   "metadata": {},
   "outputs": [
    {
     "data": {
      "text/plain": [
       "{'source': {'id': 'the-verge', 'name': 'The Verge'},\n",
       " 'author': 'Taylor Lyles',\n",
       " 'title': 'Here’s where you can buy a PS5',\n",
       " 'description': 'The PlayStation 5 is one of the most difficult consoles to buy right now because of the pandemic. We’re keeping an eye on retailers like Amazon, Best Buy, Walmart, and others to help you find and buy Sony’s next-gen console.',\n",
       " 'url': 'https://www.theverge.com/22323257/sony-playstation-5-ps5-in-stock-digital-disk-edition-where-buy',\n",
       " 'urlToImage': 'https://cdn.vox-cdn.com/thumbor/nLhwP1T-any8xLO0yYL1NUQONXc=/0x146:2040x1214/fit-in/1200x630/cdn.vox-cdn.com/uploads/chorus_asset/file/21990370/vpavic_4261_20201023_0058.jpg',\n",
       " 'publishedAt': '2021-03-12T20:55:30Z',\n",
       " 'content': 'Its quite difficult to buy one these days\\r\\nIf you buy something from a Verge link, Vox Media may earn a commission. See our ethics statement.\\r\\nUpdate March 12th, 2021 3:55PM ET: Best Buy currently ha… [+4935 chars]'}"
      ]
     },
     "execution_count": 5,
     "metadata": {},
     "output_type": "execute_result"
    }
   ],
   "source": [
    "article1 = all_articles['articles'][0]\n",
    "article1"
   ]
  },
  {
   "cell_type": "markdown",
   "metadata": {},
   "source": [
    "#### Since the collected content of the article is cut, the full content of the article will be retrieved through web scraping."
   ]
  },
  {
   "cell_type": "code",
   "execution_count": 6,
   "metadata": {},
   "outputs": [],
   "source": [
    "\n",
    "import requests\n",
    "from bs4 import BeautifulSoup\n",
    "\n",
    "for x in range(len(all_articles['articles'])):\n",
    "    curr = all_articles['articles'][x]\n",
    "    url = curr['url']\n",
    "\n",
    "    #access the url\n",
    "    page = requests.get(url)\n",
    "    soup = BeautifulSoup(page.content, 'html.parser')\n",
    "    content = soup.find(\"div\", {\"class\":\"c-entry-content \"}).find_all('p')\n",
    "    \n",
    "    #store the full article in one string\n",
    "    allcontent = \"\"\n",
    "    for i in range(len(content)):\n",
    "        #print(f'Index {i} - {content[i].text.strip()}')\n",
    "        allcontent+=str(content[i].text.strip() + \" \")\n",
    "        \n",
    "    #replace the cut content with the full content\n",
    "    curr['content'] = allcontent"
   ]
  },
  {
   "cell_type": "markdown",
   "metadata": {},
   "source": [
    "### Save the retrieved articles in a JSON file"
   ]
  },
  {
   "cell_type": "code",
   "execution_count": 7,
   "metadata": {},
   "outputs": [],
   "source": [
    "import json\n",
    "\n",
    "filename = \"[2021 Mar 11-12] The Verge articles.json\"\n",
    "with open(filename, 'w') as outfile:\n",
    "    json.dump(all_articles['articles'], outfile)"
   ]
  }
 ],
 "metadata": {
  "kernelspec": {
   "display_name": "Python 3",
   "language": "python",
   "name": "python3"
  },
  "language_info": {
   "codemirror_mode": {
    "name": "ipython",
    "version": 3
   },
   "file_extension": ".py",
   "mimetype": "text/x-python",
   "name": "python",
   "nbconvert_exporter": "python",
   "pygments_lexer": "ipython3",
   "version": "3.6.5"
  }
 },
 "nbformat": 4,
 "nbformat_minor": 2
}
